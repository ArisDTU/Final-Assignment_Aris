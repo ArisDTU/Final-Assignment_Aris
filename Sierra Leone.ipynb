{
 "cells": [
  {
   "cell_type": "code",
   "execution_count": null,
   "metadata": {},
   "outputs": [],
   "source": [
    "# To run this script, you need to download install and import the following packages: rasterio, numpy, matplotlib, pandas, urllib.request, zipfile, os "
   ]
  },
  {
   "cell_type": "code",
   "execution_count": 1,
   "metadata": {},
   "outputs": [],
   "source": [
    "import rasterio                    # improting rasterio package to access geospatial raster data, in this case in GeoTIFF format\n",
    "import numpy as np                 # importing a general-purpose array-processing package\n",
    "import matplotlib.pyplot as plt    # importing a collection of command style functions we need for plotting the line chart\n",
    "import pandas as pd                # importing pandas package for data exploration\n",
    "import urllib.request              # importing mpdule to open URLs\n",
    "import zipfile                     # import module to read ZIP archive files\n",
    "import os                          # importing miscellaneous operating system interface "
   ]
  },
  {
   "cell_type": "code",
   "execution_count": 2,
   "metadata": {},
   "outputs": [],
   "source": [
    "## GETTING THE DATA\n",
    "\n",
    "# downloading zip file with data, extract it and remove the zip file afterwards \n",
    "\n",
    "### ATTENTION!! THIS WILL AUTOMATICALLY DOWNLOAD THE DATA AND STORE IT IN YOUR DIRECTORY (101 files/34MB) ###\n",
    "\n",
    "urllib.request.urlretrieve(\"https://www.dropbox.com/s/amtrrqlk5b4d79k/01_Raster%20Analysis.zip?dl=1\", \"01_Raster Analysis.zip\")\n",
    "zf = zipfile.ZipFile(\"01_Raster Analysis.zip\")\n",
    "zf.extractall()\n",
    "zf.close()\n",
    "os.remove(\"01_Raster Analysis.zip\") # clean up"
   ]
  },
  {
   "cell_type": "code",
   "execution_count": 3,
   "metadata": {},
   "outputs": [],
   "source": [
    "countries_tif = rasterio.open('countries.tif')  # opening countries.tif file which contains the country IDs in band1"
   ]
  },
  {
   "cell_type": "code",
   "execution_count": 4,
   "metadata": {},
   "outputs": [],
   "source": [
    "countries = countries_tif.read(1)      # reading band1 of countries.tif file\n",
    "Sierra_Leone = countries == 694        # naming cell value 694 of band1 (country ID of Sierra Leone) "
   ]
  },
  {
   "cell_type": "code",
   "execution_count": 5,
   "metadata": {},
   "outputs": [],
   "source": [
    "## TOTAL POP\n",
    "\n",
    "# opening total population tif files 2010-2100\n",
    "ssp4_2010_tif = rasterio.open('ssp4_2010.tif')   \n",
    "ssp4_2020_tif = rasterio.open('ssp4_2020.tif')\n",
    "ssp4_2030_tif = rasterio.open('ssp4_2030.tif')\n",
    "ssp4_2040_tif = rasterio.open('ssp4_2040.tif')\n",
    "ssp4_2050_tif = rasterio.open('ssp4_2050.tif')\n",
    "ssp4_2060_tif = rasterio.open('ssp4_2060.tif')\n",
    "ssp4_2070_tif = rasterio.open('ssp4_2070.tif')\n",
    "ssp4_2080_tif = rasterio.open('ssp4_2080.tif')\n",
    "ssp4_2090_tif = rasterio.open('ssp4_2090.tif')\n",
    "ssp4_2100_tif = rasterio.open('ssp4_2100.tif')"
   ]
  },
  {
   "cell_type": "code",
   "execution_count": 6,
   "metadata": {},
   "outputs": [],
   "source": [
    "## URBAN POP\n",
    "\n",
    "# opening urban population tif files 2010-2100\n",
    "ssp4urb2010_tif = rasterio.open('ssp4urb2010.tif')   \n",
    "ssp4urb2020_tif = rasterio.open('ssp4urb2020.tif')\n",
    "ssp4urb2030_tif = rasterio.open('ssp4urb2030.tif')\n",
    "ssp4urb2040_tif = rasterio.open('ssp4urb2040.tif')\n",
    "ssp4urb2050_tif = rasterio.open('ssp4urb2050.tif')\n",
    "ssp4urb2060_tif = rasterio.open('ssp4urb2060.tif')\n",
    "ssp4urb2070_tif = rasterio.open('ssp4urb2070.tif')\n",
    "ssp4urb2080_tif = rasterio.open('ssp4urb2080.tif')\n",
    "ssp4urb2090_tif = rasterio.open('ssp4urb2090.tif')\n",
    "ssp4urb2100_tif = rasterio.open('ssp4urb2100.tif')"
   ]
  },
  {
   "cell_type": "code",
   "execution_count": 7,
   "metadata": {},
   "outputs": [],
   "source": [
    "## TOTAL POP\n",
    "\n",
    "# reading band1 of total population tif files and naming them accordingly (tot_pop10-tot_pop100) \n",
    "tot_pop10 = ssp4_2010_tif.read(1)   \n",
    "tot_pop20 = ssp4_2020_tif.read(1)\n",
    "tot_pop30 = ssp4_2030_tif.read(1)\n",
    "tot_pop40 = ssp4_2040_tif.read(1)\n",
    "tot_pop50 = ssp4_2050_tif.read(1)\n",
    "tot_pop60 = ssp4_2060_tif.read(1)\n",
    "tot_pop70 = ssp4_2070_tif.read(1)\n",
    "tot_pop80 = ssp4_2080_tif.read(1)\n",
    "tot_pop90 = ssp4_2090_tif.read(1)\n",
    "tot_pop100 = ssp4_2100_tif.read(1)"
   ]
  },
  {
   "cell_type": "code",
   "execution_count": 8,
   "metadata": {},
   "outputs": [],
   "source": [
    "## URBAN POP\n",
    "\n",
    "# reading band1 of urban population tif files and naming them accordingly (urb_pop10-urbpop_100) \n",
    "urb_pop10 = ssp4urb2010_tif.read(1)   \n",
    "urb_pop20 = ssp4urb2020_tif.read(1)\n",
    "urb_pop30 = ssp4urb2030_tif.read(1)\n",
    "urb_pop40 = ssp4urb2040_tif.read(1)\n",
    "urb_pop50 = ssp4urb2050_tif.read(1)\n",
    "urb_pop60 = ssp4urb2060_tif.read(1)\n",
    "urb_pop70 = ssp4urb2070_tif.read(1)\n",
    "urb_pop80 = ssp4urb2080_tif.read(1)\n",
    "urb_pop90 = ssp4urb2090_tif.read(1)\n",
    "urb_pop100 = ssp4urb2100_tif.read(1)"
   ]
  },
  {
   "cell_type": "code",
   "execution_count": 9,
   "metadata": {},
   "outputs": [],
   "source": [
    "### TOTAL and URBAN POP\n",
    "\n",
    "## summing up band1 pix values of pop tif that correspond with pix value 694 on countries.tif (Sierra Leone)  --> gives out the total population\n",
    "\n",
    "tot_pop10Sierra_Leone = np.sum(tot_pop10[Sierra_Leone]) #2010\n",
    "urb_pop10Sierra_Leone = np.sum(urb_pop10[Sierra_Leone]) \n",
    "\n",
    "tot_pop20Sierra_Leone = np.sum(tot_pop20[Sierra_Leone]) #2020\n",
    "urb_pop20Sierra_Leone = np.sum(urb_pop20[Sierra_Leone])\n",
    "\n",
    "tot_pop30Sierra_Leone = np.sum(tot_pop30[Sierra_Leone]) #2030\n",
    "urb_pop30Sierra_Leone = np.sum(urb_pop30[Sierra_Leone]) \n",
    "\n",
    "tot_pop40Sierra_Leone = np.sum(tot_pop40[Sierra_Leone]) #2040\n",
    "urb_pop40Sierra_Leone = np.sum(urb_pop40[Sierra_Leone])\n",
    "\n",
    "tot_pop50Sierra_Leone = np.sum(tot_pop50[Sierra_Leone]) #2050\n",
    "urb_pop50Sierra_Leone = np.sum(urb_pop50[Sierra_Leone]) \n",
    "\n",
    "tot_pop60Sierra_Leone = np.sum(tot_pop60[Sierra_Leone]) #2060\n",
    "urb_pop60Sierra_Leone = np.sum(urb_pop60[Sierra_Leone]) \n",
    "\n",
    "tot_pop70Sierra_Leone = np.sum(tot_pop70[Sierra_Leone]) #2070\n",
    "urb_pop70Sierra_Leone = np.sum(urb_pop70[Sierra_Leone]) \n",
    "\n",
    "tot_pop80Sierra_Leone = np.sum(tot_pop80[Sierra_Leone]) #2080\n",
    "urb_pop80Sierra_Leone = np.sum(urb_pop80[Sierra_Leone]) \n",
    "\n",
    "tot_pop90Sierra_Leone = np.sum(tot_pop90[Sierra_Leone]) #2090\n",
    "urb_pop90Sierra_Leone = np.sum(urb_pop90[Sierra_Leone]) \n",
    "\n",
    "tot_pop100Sierra_Leone = np.sum(tot_pop100[Sierra_Leone]) #2100\n",
    "urb_pop100Sierra_Leone = np.sum(urb_pop100[Sierra_Leone]) "
   ]
  },
  {
   "cell_type": "code",
   "execution_count": 10,
   "metadata": {},
   "outputs": [
    {
     "data": {
      "image/png": "[encoded data removed]",
      "text/plain": [
       "<Figure size 800x500 with 1 Axes>"
      ]
     },
     "metadata": {
      "needs_background": "light"
     },
     "output_type": "display_data"
    },
    {
     "name": "stdout",
     "output_type": "stream",
     "text": [
      "Total population of Sierra Leone in 2010: 6,149,554\n",
      "Urban population of Sierra Leone in 2010: 2,423,845\n",
      "\n",
      "Total population of Sierra Leone in 2020: 7,763,808\n",
      "Urban population of Sierra Leone in 2020: 3,757,648\n",
      "\n",
      "Total population of Sierra Leone in 2030: 9,504,282\n",
      "Urban population of Sierra Leone in 2030: 5,417,671\n",
      "\n",
      "Total population of Sierra Leone in 2040: 11,201,239\n",
      "Urban population of Sierra Leone in 2040: 7,207,758\n",
      "\n",
      "Total population of Sierra Leone in 2050: 12,785,389\n",
      "Urban population of Sierra Leone in 2050: 9,069,278\n",
      "\n",
      "Total population of Sierra Leone in 2060: 14,210,370\n",
      "Urban population of Sierra Leone in 2060: 10,834,941\n",
      "\n",
      "Total population of Sierra Leone in 2070: 15,397,482\n",
      "Urban population of Sierra Leone in 2070: 12,409,484\n",
      "\n",
      "Total population of Sierra Leone in 2080: 16,341,258\n",
      "Urban population of Sierra Leone in 2080: 13,750,032\n",
      "\n",
      "Total population of Sierra Leone in 2090: 17,069,188\n",
      "Urban population of Sierra Leone in 2090: 14,856,526\n",
      "\n",
      "Total population of Sierra Leone in 2100: 17,606,240\n",
      "Urban population of Sierra Leone in 2100: 15,739,671\n"
     ]
    }
   ],
   "source": [
    "## PLOTTING THE DATA\n",
    "\n",
    "# defining arrays for total population values to plot on x and y-axis\n",
    "x1 = [2010, 2020, 2030, 2040, 2050, 2060, 2070, 2080, 2090, 2100]\n",
    "y1 = [(np.sum(tot_pop10[Sierra_Leone])), (np.sum(tot_pop20[Sierra_Leone])), (np.sum(tot_pop30[Sierra_Leone])), (np.sum(tot_pop40[Sierra_Leone])), \n",
    "    (np.sum(tot_pop50[Sierra_Leone])), (np.sum(tot_pop60[Sierra_Leone])), (np.sum(tot_pop70[Sierra_Leone])), (np.sum(tot_pop80[Sierra_Leone])), \n",
    "    (np.sum(tot_pop90[Sierra_Leone])), (np.sum(tot_pop100[Sierra_Leone]))]\n",
    "\n",
    "# defining arrays for urban population values to plot on x and y-axis\n",
    "x2 = [2010, 2020, 2030, 2040, 2050, 2060, 2070, 2080, 2090, 2100]\n",
    "y2 = [(np.sum(urb_pop10[Sierra_Leone])), (np.sum(urb_pop20[Sierra_Leone])), (np.sum(urb_pop30[Sierra_Leone])), (np.sum(urb_pop40[Sierra_Leone])), \n",
    "    (np.sum(urb_pop50[Sierra_Leone])), (np.sum(urb_pop60[Sierra_Leone])), (np.sum(urb_pop70[Sierra_Leone])), (np.sum(urb_pop80[Sierra_Leone])), \n",
    "    (np.sum(urb_pop90[Sierra_Leone])), (np.sum(urb_pop100[Sierra_Leone]))]\n",
    "\n",
    "# resizing graph from default to larger\n",
    "plt.figure(figsize=(8,5), dpi=100) \n",
    "\n",
    "# customizing total population graph\n",
    "plt.plot(x1[:2],y1[:2], label='Total', color='red', linewidth=2, marker='.', markersize=10, markeredgecolor='black')\n",
    "plt.plot(x1[1:],y1[1:], color='red', linewidth=2, linestyle='--', marker='.', markersize=10, markeredgecolor='black')\n",
    "\n",
    "# customizing urban population graph\n",
    "plt.plot(x2[:2],y2[:2], label='Urban', color='blue', linewidth=2, marker='.', markersize=10, markeredgecolor='black')\n",
    "plt.plot(x2[1:],y2[1:], color='blue', linewidth=2, linestyle='--', marker='.', markersize=10, markeredgecolor='black')\n",
    "\n",
    "# adding title and labels to plot \n",
    "plt.title('Estimated population of Sierra Leone')\n",
    "plt.xlabel('Year')\n",
    "plt.ylabel('Population in Mio')\n",
    "\n",
    "# adding legend to plot\n",
    "plt.legend()\n",
    "\n",
    "# formatting y-axis numbering to mio\n",
    "plt.yticks([2000000,4000000,6000000,8000000,10000000,12000000,14000000,16000000,18000000, 20000000  / 10**6])\n",
    "\n",
    "# saving plot as png file\n",
    "plt.savefig('Estimated population of Sierra Leone.png')\n",
    "\n",
    "# showing plot\n",
    "plt.show()\n",
    "\n",
    "# optionally printing out the total and urban population in a nice format\n",
    "\n",
    "print (\"Total population of Sierra Leone in 2010:\",\"{:,}\".format(np.sum(tot_pop10[Sierra_Leone]))) \n",
    "print (\"Urban population of Sierra Leone in 2010:\",\"{:,}\".format(np.sum(urb_pop10[Sierra_Leone])))\n",
    "print(\"\")\n",
    "print (\"Total population of Sierra Leone in 2020:\",\"{:,}\".format(np.sum(tot_pop20[Sierra_Leone])))\n",
    "print (\"Urban population of Sierra Leone in 2020:\",\"{:,}\".format(np.sum(urb_pop20[Sierra_Leone])))\n",
    "print(\"\")\n",
    "print (\"Total population of Sierra Leone in 2030:\",\"{:,}\".format(np.sum(tot_pop30[Sierra_Leone])))\n",
    "print (\"Urban population of Sierra Leone in 2030:\",\"{:,}\".format(np.sum(urb_pop30[Sierra_Leone])))\n",
    "print(\"\")\n",
    "print (\"Total population of Sierra Leone in 2040:\",\"{:,}\".format(np.sum(tot_pop40[Sierra_Leone])))\n",
    "print (\"Urban population of Sierra Leone in 2040:\",\"{:,}\".format(np.sum(urb_pop40[Sierra_Leone])))\n",
    "print(\"\")\n",
    "print (\"Total population of Sierra Leone in 2050:\",\"{:,}\".format(np.sum(tot_pop50[Sierra_Leone])))\n",
    "print (\"Urban population of Sierra Leone in 2050:\",\"{:,}\".format(np.sum(urb_pop50[Sierra_Leone])))\n",
    "print(\"\")\n",
    "print (\"Total population of Sierra Leone in 2060:\",\"{:,}\".format(np.sum(tot_pop60[Sierra_Leone])))\n",
    "print (\"Urban population of Sierra Leone in 2060:\",\"{:,}\".format(np.sum(urb_pop60[Sierra_Leone])))\n",
    "print(\"\")\n",
    "print (\"Total population of Sierra Leone in 2070:\",\"{:,}\".format(np.sum(tot_pop70[Sierra_Leone])))\n",
    "print (\"Urban population of Sierra Leone in 2070:\",\"{:,}\".format(np.sum(urb_pop70[Sierra_Leone])))\n",
    "print(\"\")\n",
    "print (\"Total population of Sierra Leone in 2080:\",\"{:,}\".format(np.sum(tot_pop80[Sierra_Leone])))\n",
    "print (\"Urban population of Sierra Leone in 2080:\",\"{:,}\".format(np.sum(urb_pop80[Sierra_Leone])))\n",
    "print(\"\")\n",
    "print (\"Total population of Sierra Leone in 2090:\",\"{:,}\".format(np.sum(tot_pop90[Sierra_Leone])))\n",
    "print (\"Urban population of Sierra Leone in 2090:\",\"{:,}\".format(np.sum(urb_pop90[Sierra_Leone])))\n",
    "print(\"\")\n",
    "print (\"Total population of Sierra Leone in 2100:\",\"{:,}\".format(np.sum(tot_pop100[Sierra_Leone])))\n",
    "print (\"Urban population of Sierra Leone in 2100:\",\"{:,}\".format(np.sum(urb_pop100[Sierra_Leone])))\n"
   ]
  },
  {
   "cell_type": "code",
   "execution_count": null,
   "metadata": {},
   "outputs": [],
   "source": []
  }
 ],
 "metadata": {
  "kernelspec": {
   "display_name": "Python 3",
   "language": "python",
   "name": "python3"
  },
  "language_info": {
   "codemirror_mode": {
    "name": "ipython",
    "version": 3
   },
   "file_extension": ".py",
   "mimetype": "text/x-python",
   "name": "python",
   "nbconvert_exporter": "python",
   "pygments_lexer": "ipython3",
   "version": "3.7.6"
  }
 },
 "nbformat": 4,
 "nbformat_minor": 4
}
